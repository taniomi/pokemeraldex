{
 "cells": [
  {
   "cell_type": "markdown",
   "metadata": {},
   "source": [
    "# Setup"
   ]
  },
  {
   "cell_type": "code",
   "execution_count": 1,
   "metadata": {},
   "outputs": [],
   "source": [
    "import requests\n",
    "import json\n",
    "import pandas as pd\n",
    "import duckdb\n",
    "\n",
    "def api_request(endpoint):\n",
    "    url = f'https://pokeapi.co/api/v2/{endpoint}/'\n",
    "    response = requests.get(url)\n",
    "    data = response.json()\n",
    "    return data\n",
    "\n",
    "def get_gen_poke(gen):\n",
    "    data = api_request(f'pokedex/{gen}')\n",
    "    df = pd.json_normalize(data['pokemon_entries'])\n",
    "    return df\n",
    "\n",
    "def get_region_locations(name):\n",
    "    data = api_request(f'region/{name}')\n",
    "    df = pd.json_normalize(data['locations'])\n",
    "    return df"
   ]
  },
  {
   "cell_type": "markdown",
   "metadata": {},
   "source": [
    "# Main"
   ]
  },
  {
   "cell_type": "code",
   "execution_count": 2,
   "metadata": {},
   "outputs": [],
   "source": [
    "# 1. Get pokemon from emerald generation\n",
    "poke_entries = get_gen_poke('hoenn')\n",
    "poke_entries['id'] = poke_entries['pokemon_species.url'].apply(lambda x: x.split('pokemon-species/')[1].split('/')[0])\n"
   ]
  },
  {
   "cell_type": "code",
   "execution_count": 24,
   "metadata": {},
   "outputs": [],
   "source": [
    "# 2. Get emerald region locations\n",
    "locs = get_region_locations('hoenn')\n",
    "locs['id'] = locs['url'].apply(lambda x: x.split('/')[-2])"
   ]
  },
  {
   "cell_type": "code",
   "execution_count": null,
   "metadata": {},
   "outputs": [],
   "source": [
    "# Import data into duckdb\n",
    "try:\n",
    "    con = duckdb.connect()\n",
    "    con.execute(\"CREATE TABLE pokedex AS SELECT * FROM poke_entries\")\n",
    "finally:\n",
    "    con.close()"
   ]
  },
  {
   "cell_type": "markdown",
   "metadata": {},
   "source": [
    "# Debug"
   ]
  },
  {
   "cell_type": "code",
   "execution_count": 25,
   "metadata": {},
   "outputs": [
    {
     "data": {
      "text/html": [
       "<div>\n",
       "<style scoped>\n",
       "    .dataframe tbody tr th:only-of-type {\n",
       "        vertical-align: middle;\n",
       "    }\n",
       "\n",
       "    .dataframe tbody tr th {\n",
       "        vertical-align: top;\n",
       "    }\n",
       "\n",
       "    .dataframe thead th {\n",
       "        text-align: right;\n",
       "    }\n",
       "</style>\n",
       "<table border=\"1\" class=\"dataframe\">\n",
       "  <thead>\n",
       "    <tr style=\"text-align: right;\">\n",
       "      <th></th>\n",
       "      <th>name</th>\n",
       "      <th>url</th>\n",
       "      <th>id</th>\n",
       "    </tr>\n",
       "  </thead>\n",
       "  <tbody>\n",
       "    <tr>\n",
       "      <th>0</th>\n",
       "      <td>petalburg-city</td>\n",
       "      <td>https://pokeapi.co/api/v2/location/429/</td>\n",
       "      <td>429</td>\n",
       "    </tr>\n",
       "    <tr>\n",
       "      <th>1</th>\n",
       "      <td>slateport-city</td>\n",
       "      <td>https://pokeapi.co/api/v2/location/430/</td>\n",
       "      <td>430</td>\n",
       "    </tr>\n",
       "    <tr>\n",
       "      <th>2</th>\n",
       "      <td>lilycove-city</td>\n",
       "      <td>https://pokeapi.co/api/v2/location/431/</td>\n",
       "      <td>431</td>\n",
       "    </tr>\n",
       "    <tr>\n",
       "      <th>3</th>\n",
       "      <td>mossdeep-city</td>\n",
       "      <td>https://pokeapi.co/api/v2/location/432/</td>\n",
       "      <td>432</td>\n",
       "    </tr>\n",
       "    <tr>\n",
       "      <th>4</th>\n",
       "      <td>sootopolis-city</td>\n",
       "      <td>https://pokeapi.co/api/v2/location/433/</td>\n",
       "      <td>433</td>\n",
       "    </tr>\n",
       "    <tr>\n",
       "      <th>...</th>\n",
       "      <td>...</td>\n",
       "      <td>...</td>\n",
       "      <td>...</td>\n",
       "    </tr>\n",
       "    <tr>\n",
       "      <th>102</th>\n",
       "      <td>terra-cave</td>\n",
       "      <td>https://pokeapi.co/api/v2/location/803/</td>\n",
       "      <td>803</td>\n",
       "    </tr>\n",
       "    <tr>\n",
       "      <th>103</th>\n",
       "      <td>marine-cave</td>\n",
       "      <td>https://pokeapi.co/api/v2/location/804/</td>\n",
       "      <td>804</td>\n",
       "    </tr>\n",
       "    <tr>\n",
       "      <th>104</th>\n",
       "      <td>faraway-island</td>\n",
       "      <td>https://pokeapi.co/api/v2/location/812/</td>\n",
       "      <td>812</td>\n",
       "    </tr>\n",
       "    <tr>\n",
       "      <th>105</th>\n",
       "      <td>hoenn-battle-frontier</td>\n",
       "      <td>https://pokeapi.co/api/v2/location/813/</td>\n",
       "      <td>813</td>\n",
       "    </tr>\n",
       "    <tr>\n",
       "      <th>106</th>\n",
       "      <td>mauville-space-center</td>\n",
       "      <td>https://pokeapi.co/api/v2/location/1055/</td>\n",
       "      <td>1055</td>\n",
       "    </tr>\n",
       "  </tbody>\n",
       "</table>\n",
       "<p>107 rows × 3 columns</p>\n",
       "</div>"
      ],
      "text/plain": [
       "                      name                                       url    id\n",
       "0           petalburg-city   https://pokeapi.co/api/v2/location/429/   429\n",
       "1           slateport-city   https://pokeapi.co/api/v2/location/430/   430\n",
       "2            lilycove-city   https://pokeapi.co/api/v2/location/431/   431\n",
       "3            mossdeep-city   https://pokeapi.co/api/v2/location/432/   432\n",
       "4          sootopolis-city   https://pokeapi.co/api/v2/location/433/   433\n",
       "..                     ...                                       ...   ...\n",
       "102             terra-cave   https://pokeapi.co/api/v2/location/803/   803\n",
       "103            marine-cave   https://pokeapi.co/api/v2/location/804/   804\n",
       "104         faraway-island   https://pokeapi.co/api/v2/location/812/   812\n",
       "105  hoenn-battle-frontier   https://pokeapi.co/api/v2/location/813/   813\n",
       "106  mauville-space-center  https://pokeapi.co/api/v2/location/1055/  1055\n",
       "\n",
       "[107 rows x 3 columns]"
      ]
     },
     "execution_count": 25,
     "metadata": {},
     "output_type": "execute_result"
    }
   ],
   "source": [
    "locs"
   ]
  },
  {
   "cell_type": "code",
   "execution_count": null,
   "metadata": {},
   "outputs": [],
   "source": [
    "poke_entries"
   ]
  },
  {
   "cell_type": "code",
   "execution_count": 2,
   "metadata": {},
   "outputs": [],
   "source": [
    "# Get location encounter data for each location in the Hoenn region\n",
    "data = api_request('location-area/429')\n",
    "# Treat the data\n",
    "poke_encounters = pd.json_normalize(\n",
    "    data['pokemon_encounters'],\n",
    "    record_path = 'version_details',\n",
    "    meta = [['pokemon', 'name'], ['pokemon', 'url']]\n",
    ").explode('encounter_details')\n",
    "encounter_details = poke_encounters['encounter_details'].apply(pd.Series)"
   ]
  },
  {
   "cell_type": "code",
   "execution_count": 39,
   "metadata": {},
   "outputs": [
    {
     "ename": "ContentTypeError",
     "evalue": "404, message='Attempt to decode JSON with unexpected mimetype: text/plain; charset=utf-8', url='https://pokeapi.co/api/v2/location-area/467/'",
     "output_type": "error",
     "traceback": [
      "\u001b[1;31m---------------------------------------------------------------------------\u001b[0m",
      "\u001b[1;31mContentTypeError\u001b[0m                          Traceback (most recent call last)",
      "Cell \u001b[1;32mIn[39], line 18\u001b[0m\n\u001b[0;32m     14\u001b[0m         results \u001b[38;5;241m=\u001b[39m \u001b[38;5;28;01mawait\u001b[39;00m asyncio\u001b[38;5;241m.\u001b[39mgather(\u001b[38;5;241m*\u001b[39mtasks)\n\u001b[0;32m     16\u001b[0m         \u001b[38;5;28;01mreturn\u001b[39;00m results\n\u001b[1;32m---> 18\u001b[0m location_encounters \u001b[38;5;241m=\u001b[39m \u001b[38;5;28;01mawait\u001b[39;00m get_all_encounters()\n",
      "Cell \u001b[1;32mIn[39], line 14\u001b[0m, in \u001b[0;36mget_all_encounters\u001b[1;34m()\u001b[0m\n\u001b[0;32m      9\u001b[0m \u001b[38;5;28;01masync\u001b[39;00m \u001b[38;5;28;01mwith\u001b[39;00m aiohttp\u001b[38;5;241m.\u001b[39mClientSession() \u001b[38;5;28;01mas\u001b[39;00m session:\n\u001b[0;32m     10\u001b[0m     tasks \u001b[38;5;241m=\u001b[39m [\n\u001b[0;32m     11\u001b[0m         get_location_encounters(session, \u001b[38;5;124mf\u001b[39m\u001b[38;5;124m\"\u001b[39m\u001b[38;5;124mhttps://pokeapi.co/api/v2/location-area/\u001b[39m\u001b[38;5;132;01m{\u001b[39;00mrow\u001b[38;5;241m.\u001b[39mid\u001b[38;5;132;01m}\u001b[39;00m\u001b[38;5;124m/\u001b[39m\u001b[38;5;124m\"\u001b[39m)\n\u001b[0;32m     12\u001b[0m         \u001b[38;5;28;01mfor\u001b[39;00m row \u001b[38;5;129;01min\u001b[39;00m locs\u001b[38;5;241m.\u001b[39mitertuples(index\u001b[38;5;241m=\u001b[39m\u001b[38;5;28;01mFalse\u001b[39;00m)\n\u001b[0;32m     13\u001b[0m     ]\n\u001b[1;32m---> 14\u001b[0m     results \u001b[38;5;241m=\u001b[39m \u001b[38;5;28;01mawait\u001b[39;00m asyncio\u001b[38;5;241m.\u001b[39mgather(\u001b[38;5;241m*\u001b[39mtasks)\n\u001b[0;32m     16\u001b[0m     \u001b[38;5;28;01mreturn\u001b[39;00m results\n",
      "Cell \u001b[1;32mIn[39], line 6\u001b[0m, in \u001b[0;36mget_location_encounters\u001b[1;34m(session, url)\u001b[0m\n\u001b[0;32m      4\u001b[0m \u001b[38;5;28;01masync\u001b[39;00m \u001b[38;5;28;01mdef\u001b[39;00m\u001b[38;5;250m \u001b[39m\u001b[38;5;21mget_location_encounters\u001b[39m(session, url):\n\u001b[0;32m      5\u001b[0m     \u001b[38;5;28;01masync\u001b[39;00m \u001b[38;5;28;01mwith\u001b[39;00m session\u001b[38;5;241m.\u001b[39mget(url) \u001b[38;5;28;01mas\u001b[39;00m response:\n\u001b[1;32m----> 6\u001b[0m         \u001b[38;5;28;01mreturn\u001b[39;00m \u001b[38;5;28;01mawait\u001b[39;00m response\u001b[38;5;241m.\u001b[39mjson()\n",
      "File \u001b[1;32mc:\\Users\\Milena\\taniomis_repos\\pokemeraldex\\.venv\\Lib\\site-packages\\aiohttp\\client_reqrep.py:1281\u001b[0m, in \u001b[0;36mClientResponse.json\u001b[1;34m(self, encoding, loads, content_type)\u001b[0m\n\u001b[0;32m   1279\u001b[0m     ctype \u001b[38;5;241m=\u001b[39m \u001b[38;5;28mself\u001b[39m\u001b[38;5;241m.\u001b[39mheaders\u001b[38;5;241m.\u001b[39mget(hdrs\u001b[38;5;241m.\u001b[39mCONTENT_TYPE, \u001b[38;5;124m\"\u001b[39m\u001b[38;5;124m\"\u001b[39m)\u001b[38;5;241m.\u001b[39mlower()\n\u001b[0;32m   1280\u001b[0m     \u001b[38;5;28;01mif\u001b[39;00m \u001b[38;5;129;01mnot\u001b[39;00m _is_expected_content_type(ctype, content_type):\n\u001b[1;32m-> 1281\u001b[0m         \u001b[38;5;28;01mraise\u001b[39;00m ContentTypeError(\n\u001b[0;32m   1282\u001b[0m             \u001b[38;5;28mself\u001b[39m\u001b[38;5;241m.\u001b[39mrequest_info,\n\u001b[0;32m   1283\u001b[0m             \u001b[38;5;28mself\u001b[39m\u001b[38;5;241m.\u001b[39mhistory,\n\u001b[0;32m   1284\u001b[0m             status\u001b[38;5;241m=\u001b[39m\u001b[38;5;28mself\u001b[39m\u001b[38;5;241m.\u001b[39mstatus,\n\u001b[0;32m   1285\u001b[0m             message\u001b[38;5;241m=\u001b[39m(\n\u001b[0;32m   1286\u001b[0m                 \u001b[38;5;124m\"\u001b[39m\u001b[38;5;124mAttempt to decode JSON with unexpected mimetype: \u001b[39m\u001b[38;5;132;01m%s\u001b[39;00m\u001b[38;5;124m\"\u001b[39m \u001b[38;5;241m%\u001b[39m ctype\n\u001b[0;32m   1287\u001b[0m             ),\n\u001b[0;32m   1288\u001b[0m             headers\u001b[38;5;241m=\u001b[39m\u001b[38;5;28mself\u001b[39m\u001b[38;5;241m.\u001b[39mheaders,\n\u001b[0;32m   1289\u001b[0m         )\n\u001b[0;32m   1291\u001b[0m stripped \u001b[38;5;241m=\u001b[39m \u001b[38;5;28mself\u001b[39m\u001b[38;5;241m.\u001b[39m_body\u001b[38;5;241m.\u001b[39mstrip()  \u001b[38;5;66;03m# type: ignore[union-attr]\u001b[39;00m\n\u001b[0;32m   1292\u001b[0m \u001b[38;5;28;01mif\u001b[39;00m \u001b[38;5;129;01mnot\u001b[39;00m stripped:\n",
      "\u001b[1;31mContentTypeError\u001b[0m: 404, message='Attempt to decode JSON with unexpected mimetype: text/plain; charset=utf-8', url='https://pokeapi.co/api/v2/location-area/467/'"
     ]
    }
   ],
   "source": [
    "import aiohttp\n",
    "import asyncio\n",
    "\n",
    "async def get_location_encounters(session, url):\n",
    "    async with session.get(url) as response:\n",
    "        return await response.json()\n",
    "\n",
    "async def get_all_encounters():\n",
    "    async with aiohttp.ClientSession() as session:\n",
    "        tasks = [\n",
    "            get_location_encounters(session, f\"https://pokeapi.co/api/v2/location-area/{row.id}/\")\n",
    "            for row in locs.itertuples(index=False)\n",
    "        ]\n",
    "        results = await asyncio.gather(*tasks)\n",
    "\n",
    "        return results\n",
    "\n",
    "location_encounters = await get_all_encounters()"
   ]
  }
 ],
 "metadata": {
  "kernelspec": {
   "display_name": ".venv",
   "language": "python",
   "name": "python3"
  },
  "language_info": {
   "codemirror_mode": {
    "name": "ipython",
    "version": 3
   },
   "file_extension": ".py",
   "mimetype": "text/x-python",
   "name": "python",
   "nbconvert_exporter": "python",
   "pygments_lexer": "ipython3",
   "version": "3.12.4"
  }
 },
 "nbformat": 4,
 "nbformat_minor": 2
}
