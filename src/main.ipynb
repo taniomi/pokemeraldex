{
 "cells": [
  {
   "cell_type": "markdown",
   "metadata": {},
   "source": [
    "# Setup"
   ]
  },
  {
   "cell_type": "code",
   "execution_count": 2,
   "metadata": {},
   "outputs": [],
   "source": [
    "import requests\n",
    "import json\n",
    "import pandas as pd\n",
    "import duckdb\n",
    "\n",
    "def api_request(endpoint):\n",
    "    url = f'https://pokeapi.co/api/v2/{endpoint}/'\n",
    "    response = requests.get(url)\n",
    "    data = response.json()\n",
    "    return data\n",
    "\n",
    "def get_gen_poke(gen):\n",
    "    data = api_request(f'pokedex/{gen}')\n",
    "    df = pd.json_normalize(data['pokemon_entries'])\n",
    "    return df\n",
    "\n",
    "def get_region_locations(name):\n",
    "    data = api_request(f'region/{name}')\n",
    "    df = pd.json_normalize(data['locations'])\n",
    "    return df"
   ]
  },
  {
   "cell_type": "markdown",
   "metadata": {},
   "source": [
    "# Main"
   ]
  },
  {
   "cell_type": "code",
   "execution_count": 2,
   "metadata": {},
   "outputs": [],
   "source": [
    "# 1. Get pokemon from emerald generation\n",
    "poke_entries = get_gen_poke('hoenn')\n",
    "poke_entries['id'] = poke_entries['pokemon_species.url'].apply(lambda x: x.split('pokemon-species/')[1].split('/')[0])\n"
   ]
  },
  {
   "cell_type": "code",
   "execution_count": 3,
   "metadata": {},
   "outputs": [],
   "source": [
    "# 2. Get emerald region locations\n",
    "locs = get_region_locations('hoenn')"
   ]
  },
  {
   "cell_type": "code",
   "execution_count": null,
   "metadata": {},
   "outputs": [],
   "source": [
    "# Import data into duckdb\n",
    "try:\n",
    "    con = duckdb.connect()\n",
    "    con.execute(\"CREATE TABLE pokedex AS SELECT * FROM poke_entries\")\n",
    "finally:\n",
    "    con.close()"
   ]
  },
  {
   "cell_type": "markdown",
   "metadata": {},
   "source": [
    "# Debug"
   ]
  },
  {
   "cell_type": "code",
   "execution_count": null,
   "metadata": {},
   "outputs": [],
   "source": [
    "locs"
   ]
  },
  {
   "cell_type": "code",
   "execution_count": null,
   "metadata": {},
   "outputs": [],
   "source": [
    "poke_entries"
   ]
  },
  {
   "cell_type": "code",
   "execution_count": 2,
   "metadata": {},
   "outputs": [],
   "source": [
    "# Get location encounter data for each location in the Hoenn region\n",
    "data = api_request('location-area/429')\n",
    "# Treat the data\n",
    "poke_encounters = pd.json_normalize(\n",
    "    data['pokemon_encounters'],\n",
    "    record_path = 'version_details',\n",
    "    meta = [['pokemon', 'name'], ['pokemon', 'url']]\n",
    ").explode('encounter_details')\n",
    "encounter_details = poke_encounters['encounter_details'].apply(pd.Series)"
   ]
  },
  {
   "cell_type": "code",
   "execution_count": 46,
   "metadata": {},
   "outputs": [],
   "source": [
    "import aiohttp\n",
    "import asyncio\n",
    "\n",
    "async def get_url(session, url):\n",
    "    async with session.get(url) as response:\n",
    "        if response.status == 404:\n",
    "            return None\n",
    "        return await response.json()\n",
    "\n",
    "async def get_location_encounters():\n",
    "    async with aiohttp.ClientSession() as session:\n",
    "        tasks = [get_url(session, url) for url in df_location_data['areas.url']]\n",
    "        results = await asyncio.gather(*tasks)\n",
    "\n",
    "        return results\n",
    "\n",
    "async def get_location_info():\n",
    "    async with aiohttp.ClientSession() as session:\n",
    "        tasks = [get_url(session, url) for url in locs['url']]\n",
    "        results = await asyncio.gather(*tasks)\n",
    "\n",
    "        return results\n",
    "\n",
    "location_data = await get_location_info()\n",
    "df_location_data = pd.json_normalize(\n",
    "    data=location_data,\n",
    "    record_path='areas',\n",
    "    meta=['id', 'name'],\n",
    "    meta_prefix='location.',\n",
    "    record_prefix='areas.'\n",
    ")"
   ]
  },
  {
   "cell_type": "code",
   "execution_count": 49,
   "metadata": {},
   "outputs": [],
   "source": [
    "location_encounters = await get_location_encounters()"
   ]
  },
  {
   "cell_type": "code",
   "execution_count": null,
   "metadata": {},
   "outputs": [],
   "source": [
    "pd.DataFrame(location_encounters)"
   ]
  },
  {
   "cell_type": "code",
   "execution_count": null,
   "metadata": {},
   "outputs": [],
   "source": [
    "df = pd.json_normalize(\n",
    "    data=location_encounters,\n",
    "    record_path=['pokemon_encounters', 'version_details'],\n",
    "    meta='id'\n",
    ")\n",
    "df[df['version.name'] == 'emerald']"
   ]
  },
  {
   "cell_type": "code",
   "execution_count": null,
   "metadata": {},
   "outputs": [],
   "source": [
    "pd.json_normalize(\n",
    "    data=location_encounters,\n",
    "    record_path=['pokemon_encounters', 'version_details', 'encounter_details'],\n",
    "    meta=['id', 'name', 'pokemon_encounters', 'location']\n",
    ")"
   ]
  }
 ],
 "metadata": {
  "kernelspec": {
   "display_name": ".venv",
   "language": "python",
   "name": "python3"
  },
  "language_info": {
   "codemirror_mode": {
    "name": "ipython",
    "version": 3
   },
   "file_extension": ".py",
   "mimetype": "text/x-python",
   "name": "python",
   "nbconvert_exporter": "python",
   "pygments_lexer": "ipython3",
   "version": "3.12.4"
  }
 },
 "nbformat": 4,
 "nbformat_minor": 2
}
